{
 "cells": [
  {
   "cell_type": "code",
   "execution_count": 2,
   "id": "dc727d32",
   "metadata": {},
   "outputs": [
    {
     "data": {
      "text/html": [
       "<div>\n",
       "<style scoped>\n",
       "    .dataframe tbody tr th:only-of-type {\n",
       "        vertical-align: middle;\n",
       "    }\n",
       "\n",
       "    .dataframe tbody tr th {\n",
       "        vertical-align: top;\n",
       "    }\n",
       "\n",
       "    .dataframe thead th {\n",
       "        text-align: right;\n",
       "    }\n",
       "</style>\n",
       "<table border=\"1\" class=\"dataframe\">\n",
       "  <thead>\n",
       "    <tr style=\"text-align: right;\">\n",
       "      <th></th>\n",
       "      <th>City</th>\n",
       "      <th>Country</th>\n",
       "      <th>Population</th>\n",
       "      <th>Area</th>\n",
       "    </tr>\n",
       "  </thead>\n",
       "  <tbody>\n",
       "    <tr>\n",
       "      <th>0</th>\n",
       "      <td>Solta</td>\n",
       "      <td>Croatia</td>\n",
       "      <td>1700</td>\n",
       "      <td>59</td>\n",
       "    </tr>\n",
       "    <tr>\n",
       "      <th>1</th>\n",
       "      <td>Greenville</td>\n",
       "      <td>USA</td>\n",
       "      <td>84554</td>\n",
       "      <td>68</td>\n",
       "    </tr>\n",
       "    <tr>\n",
       "      <th>2</th>\n",
       "      <td>Buenos Aires</td>\n",
       "      <td>Argentina</td>\n",
       "      <td>13591863</td>\n",
       "      <td>4758</td>\n",
       "    </tr>\n",
       "    <tr>\n",
       "      <th>3</th>\n",
       "      <td>Los Cabos</td>\n",
       "      <td>Mexico</td>\n",
       "      <td>287651</td>\n",
       "      <td>3750</td>\n",
       "    </tr>\n",
       "    <tr>\n",
       "      <th>4</th>\n",
       "      <td>Walla Walla Valley</td>\n",
       "      <td>USA</td>\n",
       "      <td>32237</td>\n",
       "      <td>33</td>\n",
       "    </tr>\n",
       "    <tr>\n",
       "      <th>5</th>\n",
       "      <td>Marakesh</td>\n",
       "      <td>Morocco</td>\n",
       "      <td>928850</td>\n",
       "      <td>200</td>\n",
       "    </tr>\n",
       "    <tr>\n",
       "      <th>6</th>\n",
       "      <td>Albuquerque</td>\n",
       "      <td>New Mexico</td>\n",
       "      <td>559277</td>\n",
       "      <td>491</td>\n",
       "    </tr>\n",
       "    <tr>\n",
       "      <th>7</th>\n",
       "      <td>Archipelago Sea</td>\n",
       "      <td>Finland</td>\n",
       "      <td>60000</td>\n",
       "      <td>8300</td>\n",
       "    </tr>\n",
       "    <tr>\n",
       "      <th>8</th>\n",
       "      <td>Iguazu Falls</td>\n",
       "      <td>Argentina</td>\n",
       "      <td>0</td>\n",
       "      <td>672</td>\n",
       "    </tr>\n",
       "    <tr>\n",
       "      <th>9</th>\n",
       "      <td>Salina Island</td>\n",
       "      <td>Italy</td>\n",
       "      <td>4000</td>\n",
       "      <td>27</td>\n",
       "    </tr>\n",
       "    <tr>\n",
       "      <th>10</th>\n",
       "      <td>Toronto</td>\n",
       "      <td>Canada</td>\n",
       "      <td>630</td>\n",
       "      <td>2731571</td>\n",
       "    </tr>\n",
       "    <tr>\n",
       "      <th>11</th>\n",
       "      <td>Pyeongchang</td>\n",
       "      <td>South Korea</td>\n",
       "      <td>2581000</td>\n",
       "      <td>3194</td>\n",
       "    </tr>\n",
       "  </tbody>\n",
       "</table>\n",
       "</div>"
      ],
      "text/plain": [
       "                  City      Country  Population     Area\n",
       "0                Solta      Croatia        1700       59\n",
       "1           Greenville          USA       84554       68\n",
       "2         Buenos Aires    Argentina    13591863     4758\n",
       "3            Los Cabos       Mexico      287651     3750\n",
       "4   Walla Walla Valley          USA       32237       33\n",
       "5             Marakesh      Morocco      928850      200\n",
       "6          Albuquerque   New Mexico      559277      491\n",
       "7      Archipelago Sea      Finland       60000     8300\n",
       "8         Iguazu Falls    Argentina           0      672\n",
       "9        Salina Island        Italy        4000       27\n",
       "10             Toronto       Canada         630  2731571\n",
       "11         Pyeongchang  South Korea     2581000     3194"
      ]
     },
     "execution_count": 2,
     "metadata": {},
     "output_type": "execute_result"
    }
   ],
   "source": [
    "import pandas as pd\n",
    "\n",
    "file_path = (r\"C:\\Users\\Hafsa\\Downloads\\cities (1).xlsx\")\n",
    "file_path\n",
    "\n",
    "cities = pd.read_excel(file_path)\n",
    "cities"
   ]
  },
  {
   "cell_type": "code",
   "execution_count": 3,
   "id": "33689ab9",
   "metadata": {},
   "outputs": [
    {
     "name": "stdout",
     "output_type": "stream",
     "text": [
      "Solta\n",
      "Greenville\n",
      "Buenos Aires\n",
      "Los Cabos\n",
      "Walla Walla Valley\n",
      "Marakesh\n",
      "Albuquerque\n",
      "Archipelago Sea\n",
      "Iguazu Falls\n",
      "Salina Island\n",
      "Toronto\n",
      "Pyeongchang\n"
     ]
    }
   ],
   "source": [
    "# Write a for loop to print all the city names in your dataset.\n",
    "\n",
    "for city_names in cities[\"City\"]:\n",
    "    print(city_names)"
   ]
  },
  {
   "cell_type": "code",
   "execution_count": 4,
   "id": "21a94180",
   "metadata": {},
   "outputs": [
    {
     "name": "stdout",
     "output_type": "stream",
     "text": [
      "Solta\n",
      "Greenville\n"
     ]
    }
   ],
   "source": [
    "# Modify the loop so that it stops printing if it encounters a city whose name starts with \"B\" (Use break).\n",
    "\n",
    "for city_name in cities[\"City\"]:  # Loop through city names\n",
    "    \n",
    "    if city_name.startswith(\"B\"):  # Stop if a city name starts with \"B\"\n",
    "        \n",
    "        break\n",
    "        \n",
    "    print(city_name)  # Print the city name\n"
   ]
  },
  {
   "cell_type": "code",
   "execution_count": 5,
   "id": "38fca469",
   "metadata": {},
   "outputs": [
    {
     "name": "stdout",
     "output_type": "stream",
     "text": [
      "Solta\n",
      "Greenville\n",
      "Los Cabos\n",
      "Walla Walla Valley\n",
      "Marakesh\n",
      "Albuquerque\n",
      "Archipelago Sea\n",
      "Iguazu Falls\n",
      "Salina Island\n",
      "Toronto\n",
      "Pyeongchang\n"
     ]
    }
   ],
   "source": [
    "# Modify the loop so that it skips any city whose name starts with \"B\" but continues to print others (Use continue).\n",
    "\n",
    "\n",
    "for city_name in cities[\"City\"]:  # Loop through city names\n",
    "    \n",
    "    if city_name.startswith(\"B\"):  # continues if a city name starts with \"B\"\n",
    "        \n",
    "        continue\n",
    "        \n",
    "    print(city_name)  # Print the city name"
   ]
  },
  {
   "cell_type": "code",
   "execution_count": 13,
   "id": "b5fbdaba",
   "metadata": {},
   "outputs": [
    {
     "name": "stdout",
     "output_type": "stream",
     "text": [
      "Buenos Aires has an area of 4758 km²\n",
      "Los Cabos has an area of 3750 km²\n",
      "Archipelago Sea has an area of 8300 km²\n",
      "Iguazu Falls has an area of 672 km²\n",
      "Toronto has an area of 2731571 km²\n",
      "Pyeongchang has an area of 3194 km²\n"
     ]
    }
   ],
   "source": [
    "# Write a for loop that prints only the cities with an area greater than 500 km². \n",
    "\n",
    "for index, row in cities.iterrows():  # Loop through each row of the DataFrame\n",
    "    \n",
    "    if row[\"Area\"] > 500:  # Check if the city's area is greater than 500 km²\n",
    "        \n",
    "        print(f\"{row['City']} has an area of {row['Area']} km²\")  # Print city name and area\n"
   ]
  },
  {
   "cell_type": "code",
   "execution_count": 14,
   "id": "d0529629",
   "metadata": {},
   "outputs": [
    {
     "name": "stdout",
     "output_type": "stream",
     "text": [
      "Buenos Aires has an area of 4758 km²\n",
      "Los Cabos has an area of 3750 km²\n",
      "Archipelago Sea has an area of 8300 km²\n",
      "Iguazu Falls has an area of 672 km²\n",
      "Toronto has an area of 2731571 km²\n"
     ]
    }
   ],
   "source": [
    "# Modify your loop to stop once it finds 5 cities with an area greater than 500 km²\n",
    "\n",
    "\n",
    "count = 0  # Initialize a counter\n",
    "\n",
    "for index, row in cities.iterrows():  \n",
    "    \n",
    "    if row[\"Area\"] > 500:  \n",
    "        \n",
    "        print(f\"{row['City']} has an area of {row['Area']} km²\")  \n",
    "        \n",
    "        count += 1  # Increase the counter\n",
    "        \n",
    "    if count == 5:  # Stop the loop after finding 5 cities\n",
    "        \n",
    "        break\n"
   ]
  },
  {
   "cell_type": "code",
   "execution_count": null,
   "id": "4c87a6c7",
   "metadata": {},
   "outputs": [],
   "source": []
  }
 ],
 "metadata": {
  "kernelspec": {
   "display_name": "Python 3 (ipykernel)",
   "language": "python",
   "name": "python3"
  },
  "language_info": {
   "codemirror_mode": {
    "name": "ipython",
    "version": 3
   },
   "file_extension": ".py",
   "mimetype": "text/x-python",
   "name": "python",
   "nbconvert_exporter": "python",
   "pygments_lexer": "ipython3",
   "version": "3.9.19"
  }
 },
 "nbformat": 4,
 "nbformat_minor": 5
}
